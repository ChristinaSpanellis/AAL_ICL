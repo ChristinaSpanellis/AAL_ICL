{
 "cells": [
  {
   "cell_type": "markdown",
   "metadata": {},
   "source": [
    "## This notebook is used to preprocess data and transform into an appropriate format for an LSTM"
   ]
  },
  {
   "cell_type": "code",
   "execution_count": 4,
   "metadata": {},
   "outputs": [],
   "source": [
    "from pandas import read_csv\n",
    "from datetime import datetime\n",
    "from matplotlib import pyplot\n",
    "from pandas import DataFrame\n",
    "from pandas import concat\n",
    "import pandas\n",
    "from sklearn import datasets\n",
    "from sklearn.preprocessing import LabelEncoder\n",
    "from sklearn.preprocessing import MinMaxScaler"
   ]
  },
  {
   "cell_type": "markdown",
   "metadata": {},
   "source": [
    "Create a mapping to transform the dataset into columns per sensor"
   ]
  },
  {
   "cell_type": "code",
   "execution_count": 60,
   "metadata": {},
   "outputs": [],
   "source": [
    "replacement_mapping_dict = {\n",
    "            \"M01\" : 0,\n",
    "            \"M02\" : 1,\n",
    "            \"M03\" : 2,\n",
    "            \"M04\" : 3,\n",
    "            \"M05\" : 4,\n",
    "            \"M06\" : 5,\n",
    "            \"M07\" : 6,\n",
    "            \"M08\" : 7,\n",
    "            \"M09\" : 8,\n",
    "            \"M10\" : 9,\n",
    "            \"M11\" : 10,\n",
    "            \"M12\" : 11,\n",
    "            \"M13\" : 12,\n",
    "            \"M14\" : 13,\n",
    "            \"M15\" : 14,\n",
    "            \"M16\" : 15,\n",
    "            \"M17\" : 16,\n",
    "            \"M18\" : 17,\n",
    "            \"M19\" : 18,\n",
    "            \"M20\" : 19,\n",
    "            \"M21\" : 20,\n",
    "            \"M22\" : 21,\n",
    "            \"M23\" : 22,\n",
    "            \"M24\" : 23,\n",
    "            \"M25\" : 24,\n",
    "            \"M26\" : 25,\n",
    "            \"I01\" : 26,\n",
    "            \"I02\" : 27,\n",
    "            \"I03\" : 28,\n",
    "            \"I04\" : 29,\n",
    "            \"I05\" : 30,\n",
    "            \"I06\" : 31,\n",
    "            \"I07\" : 32,\n",
    "            \"I08\" : 33,\n",
    "            \"D01\" : 34,\n",
    "            \"AD1-A\" : 35,\n",
    "            \"AD1-B\" : 36,\n",
    "            \"AD1-C\" : 37,\n",
    "        }"
   ]
  },
  {
   "cell_type": "markdown",
   "metadata": {},
   "source": [
    "Load the dataset."
   ]
  },
  {
   "cell_type": "code",
   "execution_count": 6,
   "metadata": {},
   "outputs": [],
   "source": [
    "dataset = read_csv('datasets/adlnormal/data.csv')\n",
    "# for now exclude asterisk and EO1\n",
    "dataset = dataset[dataset[\"SensorId\"] != \"E01\"]\n",
    "dataset = dataset[dataset[\"SensorId\"] != \"asterisk\"]\n",
    "\n",
    "# replace ON/OFF for light sensors, ABSENT/PRESENT for bowls/food and OPEN/CLOSE for door sensors\n",
    "dataset[\"SensorValue\"] = dataset[\"SensorValue\"].replace({\"ON\" : 1.0, \"OFF\" : 0.0})\n",
    "dataset[\"SensorValue\"] = dataset[\"SensorValue\"].replace({\"ABSENT\" : 1.0, \"PRESENT\" : 0.0})\n",
    "dataset[\"SensorValue\"] = dataset[\"SensorValue\"].replace({\"OPEN\" : 1.0, \"CLOSE\" : 0.0})\n",
    "# transform sensorids from text into numbers to make life easier\n",
    "dataset[\"SensorId\"].replace(replacement_mapping_dict, inplace=True)\n",
    "# drop the event labelling as we aren't predicting activities\n",
    "dataset.drop('Event', axis=1, inplace=True)"
   ]
  },
  {
   "cell_type": "markdown",
   "metadata": {},
   "source": [
    "Now, create a transformed data set where the columns represent the various sensor values.\n",
    "Furthermore, collate the data into 10 second segments to reduce sparcity. \n",
    "To avoid empty fields, oscillations of on/off values will be simply reported as 1 - representing activation"
   ]
  },
  {
   "cell_type": "code",
   "execution_count": 30,
   "metadata": {},
   "outputs": [
    {
     "name": "stdout",
     "output_type": "stream",
     "text": [
      "38\n",
      "            Date      Time    0    1    2    3    4    5    6    7  ...   28  \\\n",
      "0     2008-02-27  12:43.30  0.0  0.0  0.0  0.0  0.0  0.0  1.0  1.0  ...  0.0   \n",
      "1     2008-02-27  12:43.40  0.0  0.0  0.0  0.0  0.0  0.0  0.0  0.0  ...  0.0   \n",
      "2     2008-02-27  12:43.50  0.0  0.0  0.0  0.0  0.0  0.0  0.0  0.0  ...  0.0   \n",
      "3     2008-02-27  12:44.60  0.0  0.0  0.0  0.0  0.0  0.0  0.0  0.0  ...  0.0   \n",
      "4     2008-02-27  12:45.10  0.0  0.0  0.0  0.0  0.0  0.0  0.0  0.0  ...  0.0   \n",
      "...          ...       ...  ...  ...  ...  ...  ...  ...  ...  ...  ...  ...   \n",
      "1910  2008-05-21  16:46.50  0.0  0.0  0.0  0.0  0.0  0.0  0.0  0.0  ...  0.0   \n",
      "1911  2008-05-21  16:46.60  0.0  0.0  0.0  0.0  0.0  0.0  0.0  0.0  ...  0.0   \n",
      "1912  2008-05-21  16:46.10  0.0  0.0  0.0  0.0  0.0  0.0  0.0  0.0  ...  0.0   \n",
      "1913  2008-05-21  16:46.20  0.0  0.0  0.0  0.0  0.0  0.0  0.0  0.0  ...  0.0   \n",
      "1914  2008-05-21  16:46.30  0.0  0.0  0.0  0.0  0.0  0.0  0.0  0.0  ...  0.0   \n",
      "\n",
      "       29   30   31   32   33   34   35        36        37  \n",
      "0     0.0  0.0  0.0  0.0  0.0  0.0  0.0       0.0       0.0  \n",
      "1     0.0  0.0  0.0  0.0  1.0  0.0  0.0       0.0       0.0  \n",
      "2     0.0  0.0  0.0  0.0  0.0  0.0  0.0       0.0       0.0  \n",
      "3     0.0  0.0  0.0  0.0  0.0  0.0  0.0       0.0       0.0  \n",
      "4     0.0  0.0  0.0  0.0  0.0  0.0  0.0       0.0       0.0  \n",
      "...   ...  ...  ...  ...  ...  ...  ...       ...       ...  \n",
      "1910  0.0  0.0  0.0  0.0  0.0  0.0  0.0  0.361256  0.156877  \n",
      "1911  0.0  0.0  0.0  0.0  0.0  0.0  0.0  0.340747       0.0  \n",
      "1912  0.0  0.0  0.0  0.0  0.0  0.0  0.0   0.39235       0.0  \n",
      "1913  0.0  0.0  0.0  0.0  0.0  0.0  0.0       0.0   0.12926  \n",
      "1914  0.0  0.0  0.0  0.0  0.0  0.0  0.0  0.320005       0.0  \n",
      "\n",
      "[1915 rows x 40 columns]\n"
     ]
    }
   ],
   "source": [
    "data = []\n",
    "current_date = dataset.iloc[0][\"Date\"]\n",
    "first_row_time = dataset.iloc[0][\"Time\"].split(\".\")\n",
    "first_row_time = first_row_time[:1]\n",
    "current_time = ((datetime.strptime(first_row_time[0], \"%H:%M:%S\").second // 10 ) + 1 ) * 10 \n",
    "if (current_time > 50):\n",
    "    current_time = 60\n",
    "sensor_vals = [0.0] * 38\n",
    "first_time = datetime.strptime(first_row_time[0], \"%H:%M:%S\")\n",
    "date_and_time = []\n",
    "date_and_time.append(current_date)\n",
    "date_and_time.append(str(first_time.hour) + \":\" + str(first_time.minute) + \".\" + str(current_time))\n",
    "for i, row in dataset.iterrows():\n",
    "    date = row[\"Date\"]\n",
    "    time = row[\"Time\"].split(\".\")\n",
    "    time = time[:1]\n",
    "    time = datetime.strptime(time[0], \"%H:%M:%S\")\n",
    "    if ((current_time == 60 and time.second < current_time ) or time.second >= current_time):\n",
    "        date_and_time.extend(sensor_vals)\n",
    "        data.append(date_and_time)\n",
    "        date_and_time = []\n",
    "        current_date = date\n",
    "        if (current_time == 60):\n",
    "            current_time = 10\n",
    "        else:\n",
    "            current_time += 10\n",
    "        sensor_vals = [0.0] * 38\n",
    "        if (sensor_vals[int(row[\"SensorId\"])] != 1.0):\n",
    "            sensor_vals[int(row[\"SensorId\"])] = row[\"SensorValue\"]\n",
    "        date_and_time.append(row[\"Date\"])\n",
    "        new_time = str(time.hour) + \":\" + str(time.minute) + \".\" + str(current_time)\n",
    "        date_and_time.append(new_time)\n",
    "    if (sensor_vals[int(row[\"SensorId\"])] != 1.0):\n",
    "        sensor_vals[int(row[\"SensorId\"])] = row[\"SensorValue\"]\n",
    "columns = [i for i in range (0,38)]\n",
    "final_columns = [\"Date\", \"Time\"]\n",
    "final_columns.extend(columns)\n",
    "new_data = pandas.DataFrame.from_records(data, columns=final_columns)      "
   ]
  },
  {
   "cell_type": "markdown",
   "metadata": {},
   "source": [
    "Plot the data to identify useless fields"
   ]
  },
  {
   "cell_type": "code",
   "execution_count": 35,
   "metadata": {},
   "outputs": [
    {
     "name": "stdout",
     "output_type": "stream",
     "text": [
      "0       0.0\n",
      "1       0.0\n",
      "2       0.0\n",
      "3       0.0\n",
      "4       0.0\n",
      "       ... \n",
      "1910    0.0\n",
      "1911    0.0\n",
      "1912    0.0\n",
      "1913    0.0\n",
      "1914    0.0\n",
      "Name: 0, Length: 1915, dtype: float64\n"
     ]
    },
    {
     "data": {
      "image/png": "[encoded data removed]",
      "text/plain": [
       "<Figure size 432x288 with 38 Axes>"
      ]
     },
     "metadata": {
      "needs_background": "light"
     },
     "output_type": "display_data"
    },
    {
     "name": "stdout",
     "output_type": "stream",
     "text": [
      "Irrelevant columns are:  [1, 2, 3, 4, 5, 9, 10, 11, 18, 19, 20, 21, 23, 24, 25]\n"
     ]
    }
   ],
   "source": [
    "values = new_data.values\n",
    "groups = []\n",
    "empty_columns = []\n",
    "for i in range (0,38):\n",
    "    groups.append(i)\n",
    "    if ((new_data[i] == new_data[i][0]).all()):\n",
    "        empty_columns.append(i)\n",
    "i = 1\n",
    "# plot each column\n",
    "pyplot.figure()\n",
    "for group in groups:\n",
    "    pyplot.subplot(len(groups), 1, i)\n",
    "    pyplot.plot(values[:, group])\n",
    "    pyplot.title(new_data.columns[group], y=0.5, loc='right')\n",
    "    i += 1\n",
    "pyplot.show()\n",
    "print(\"Irrelevant columns are: \", empty_columns)\n"
   ]
  },
  {
   "cell_type": "markdown",
   "metadata": {},
   "source": [
    "Remove empty columns from the data and plot resulting traces"
   ]
  },
  {
   "cell_type": "code",
   "execution_count": 63,
   "metadata": {},
   "outputs": [
    {
     "name": "stdout",
     "output_type": "stream",
     "text": [
      "{0: 'M01', 1: 'M02', 2: 'M03', 3: 'M04', 4: 'M05', 5: 'M06', 6: 'M07', 7: 'M08', 8: 'M09', 9: 'M10', 10: 'M11', 11: 'M12', 12: 'M13', 13: 'M14', 14: 'M15', 15: 'M16', 16: 'M17', 17: 'M18', 18: 'M19', 19: 'M20', 20: 'M21', 21: 'M22', 22: 'M23', 23: 'M24', 24: 'M25', 25: 'M26', 26: 'I01', 27: 'I02', 28: 'I03', 29: 'I04', 30: 'I05', 31: 'I06', 32: 'I07', 33: 'I08', 34: 'D01', 35: 'AD1-A', 36: 'AD1-B', 37: 'AD1-C'}\n",
      "Index(['Date', 'Time',      0,      6,      7,      8,     12,     13,     14,\n",
      "           15,     16,     17,     22,     26,     27,     28,     29,     30,\n",
      "           31,     32,     33,     34,     35,     36,     37],\n",
      "      dtype='object')\n",
      "['M01', 'M07', 'M08', 'M09', 'M13', 'M14', 'M15', 'M16', 'M17', 'M18', 'M23', 'I01', 'I02', 'I03', 'I04', 'I05', 'I06', 'I07', 'I08', 'D01', 'AD1-A', 'AD1-B', 'AD1-C']\n"
     ]
    }
   ],
   "source": [
    "# new_data.drop(empty_columns, axis=1, inplace=True)\n",
    "reversed_mapping = {y: x for x, y in replacement_mapping_dict.items()}\n",
    "print(reversed_mapping)\n",
    "for column in empty_columns:\n",
    "    reversed_mapping.pop(column)\n",
    "legend = []\n",
    "for columnn in new_data.columns:\n",
    "    if (columnn!=\"Date\" and columnn!=\"Time\"):\n",
    "        legend.append(reversed_mapping[columnn])\n",
    "new_data.plot(subplots=True, figsize=(20,20))\n",
    "pyplot.legend(legend)\n",
    "pyplot.tight_layout()\n",
    "pyplot.savefig(\"plots/CleanedData.png\", format=\"png\", dpi=1200)"
   ]
  }
 ],
 "metadata": {
  "interpreter": {
   "hash": "aee8b7b246df8f9039afb4144a1f6fd8d2ca17a180786b69acc140d282b71a49"
  },
  "kernelspec": {
   "display_name": "Python 3.9.8 64-bit",
   "language": "python",
   "name": "python3"
  },
  "language_info": {
   "codemirror_mode": {
    "name": "ipython",
    "version": 3
   },
   "file_extension": ".py",
   "mimetype": "text/x-python",
   "name": "python",
   "nbconvert_exporter": "python",
   "pygments_lexer": "ipython3",
   "version": "3.9.8"
  },
  "orig_nbformat": 4
 },
 "nbformat": 4,
 "nbformat_minor": 2
}
