{
 "cells": [
  {
   "cell_type": "markdown",
   "metadata": {},
   "source": [
    "\n",
    "# MSc Individual Project: Anomaly Detection for Assisted Independent Living\n",
    "\n",
    "Author: Christina Spanellis\n",
    " \n",
    "Sections 1-4 of this notebook define the necessary method definitions and constants for this project.\n",
    "\n",
    "Section 5 contains code to build and test the system\n",
    "\n",
    "## Sections\n",
    "### 1. [Data preparation and pre-processing](#section1)\n",
    "### 2. [Anomalous Data Generation Module](#section2)\n",
    "### 3. [Prediction Module](#section3)\n",
    "### 4. [Anomaly Detection Module](#section4)\n",
    "### 5. [Running the system](#section5)"
   ]
  },
  {
   "cell_type": "code",
   "execution_count": 3,
   "metadata": {},
   "outputs": [],
   "source": [
    "# import the necessary packages for the project\n",
    "from pandas import read_csv\n",
    "from datetime import datetime\n",
    "from matplotlib import pyplot\n",
    "from pandas import DataFrame\n",
    "from pandas import concat\n",
    "import pandas\n",
    "from sklearn import datasets\n",
    "from sklearn.preprocessing import LabelEncoder\n",
    "from sklearn.preprocessing import MinMaxScaler\n",
    "from keras.models import Sequential\n",
    "from keras.layers import Dense\n",
    "from keras.layers import LSTM\n",
    "import numpy as np"
   ]
  },
  {
   "cell_type": "markdown",
   "metadata": {},
   "source": [
    "<a id='section1'></a>\n",
    "## Section 1: Data preparation and pre-processing"
   ]
  },
  {
   "cell_type": "markdown",
   "metadata": {},
   "source": [
    "Two different data sets had to be cleaned and prepared to be in a suitable format for the prediction module. \n",
    "\n",
    "Data set 1: CASAS HH101\n",
    "\n",
    "Data set 2: CASAS HH102\n",
    "\n",
    "The below definitions define the constants and logic needed for loading and pre-processing. "
   ]
  },
  {
   "cell_type": "code",
   "execution_count": 4,
   "metadata": {},
   "outputs": [],
   "source": [
    "## CONSTANTS AND GLOBALS DEFINITION\n",
    "\n",
    "SENSOR_EVENT_WINDOW_SIZE = 19"
   ]
  },
  {
   "cell_type": "code",
   "execution_count": 5,
   "metadata": {},
   "outputs": [],
   "source": [
    "# load the hh101 data set\n",
    "def load_hh101():\n",
    "    # load the data set\n",
    "    hh101 = read_csv('datasets/hh101/hh101.csv', names=[\"Sensor\",1,2,\"Value\",\"Type\"])\n",
    "    hh101.drop(columns={1,2,\"Type\"}, inplace=True)\n",
    "    # replace string values and drop unwanted sensor readings\n",
    "    hh101 = hh101[hh101[\"Sensor\"].str.contains(\"BAT\") == False]\n",
    "    # hh101 = hh101[hh101[\"Sensor\"] != \"D001\"]\n",
    "    # hh101 = hh101[hh101[\"Sensor\"] != \"LS010\"]\n",
    "    hh101[\"Value\"] = hh101[\"Value\"].replace({\"ON\" : 1.0, \"OFF\" : 0.0})\n",
    "    hh101[\"Value\"] = hh101[\"Value\"].replace({\"ABSENT\" : 1.0, \"PRESENT\" : 0.0})\n",
    "    hh101[\"Value\"] = hh101[\"Value\"].replace({\"OPEN\" : 1.0, \"CLOSE\" : 0.0})\n",
    "    # creating a mapping of the sensor names to keep track of them\n",
    "    count = 0\n",
    "    hh101_sensor_id_mapping = {}\n",
    "    for sensor in hh101[\"Sensor\"].values:\n",
    "        if sensor not in hh101_sensor_id_mapping:\n",
    "            hh101_sensor_id_mapping[sensor] = count\n",
    "            count+=1\n",
    "    hh101_reversed_mapping = {y: x for x, y in hh101_sensor_id_mapping.items()}\n",
    "    return (hh101, hh101_sensor_id_mapping, hh101_reversed_mapping)\n",
    "\n",
    "# load the hh102 dataset \n",
    "def load_hh102():\n",
    "    # load the data set\n",
    "    hh102 = read_csv('datasets/hh102/hh102.csv', names=[\"Sensor\",1,2,\"Value\",\"Type\"])\n",
    "    hh102.drop(columns={1,2,\"Type\"}, inplace=True)\n",
    "    # replace string values and drop unwanted sensor readings\n",
    "    hh102 = hh102[hh102[\"Sensor\"].str.contains(\"BAT\") == False]\n",
    "    # hh102 = hh102[hh102[\"Sensor\"] != \"D001\"]\n",
    "    # hh102 = hh102[hh102[\"Sensor\"] != \"LS010\"]\n",
    "    hh102[\"Value\"] = hh102[\"Value\"].replace({\"ON\" : 1.0, \"OFF\" : 0.0})\n",
    "    hh102[\"Value\"] = hh102[\"Value\"].replace({\"ABSENT\" : 1.0, \"PRESENT\" : 0.0})\n",
    "    hh102[\"Value\"] = hh102[\"Value\"].replace({\"OPEN\" : 1.0, \"CLOSE\" : 0.0})\n",
    "    # creating a mapping of the sensor names to keep track of them\n",
    "    count = 0\n",
    "    hh102_sensor_id_mapping = {}\n",
    "    for sensor in hh102[\"Sensor\"].values:\n",
    "        if sensor not in hh102_sensor_id_mapping:\n",
    "            hh102_sensor_id_mapping[sensor] = count\n",
    "            count+=1\n",
    "    hh102_reversed_mapping = {y: x for x, y in hh102_sensor_id_mapping.items()}\n",
    "    return (hh102, hh102_sensor_id_mapping, hh102_reversed_mapping)\n"
   ]
  },
  {
   "cell_type": "markdown",
   "metadata": {},
   "source": [
    "This method transforms the data set into a format where the columns represent the various sensor values and segment the data into 20 event sensor windows.\n",
    "\n",
    "This means that each row in the data set represents the activations for the previous 20 sensor event activations"
   ]
  },
  {
   "cell_type": "code",
   "execution_count": 6,
   "metadata": {},
   "outputs": [],
   "source": [
    "def transform_data(dataset, sensor_id_mapping):\n",
    "    data = []\n",
    "    starting_date_time = datetime.strptime(dataset.index[0], '%Y-%m-%d %H:%M:%S.%f')\n",
    "    starting_date_time = starting_date_time.replace(microsecond=0)\n",
    "    sensor_vals = [0.0] * len(sensor_id_mapping)\n",
    "    event_count = 0 ## counter used to segment the data into sensor event windows\n",
    "    for i, row in dataset.iterrows():\n",
    "        curr_date_time =  datetime.strptime(i, '%Y-%m-%d %H:%M:%S.%f')\n",
    "        curr_date_time = curr_date_time.replace(microsecond=0)\n",
    "        if (event_count >= SENSOR_EVENT_WINDOW_SIZE):\n",
    "            values = [starting_date_time.strftime(\"%m-%d-%Y %H:%M:%S\")]\n",
    "            values.extend(sensor_vals)\n",
    "            data.append(values)\n",
    "            starting_date_time = curr_date_time\n",
    "            sensor_vals = [0.0] * len(sensor_id_mapping)\n",
    "            event_count = 0\n",
    "        event_count +=1\n",
    "        if \"D\" in row[\"Sensor\"] or \"M\" in row[\"Sensor\"]:\n",
    "            if sensor_vals[sensor_id_mapping[row[\"Sensor\"]]] == 0:\n",
    "                sensor_vals[sensor_id_mapping[row[\"Sensor\"]]] = 1\n",
    "            else:\n",
    "                sensor_vals[sensor_id_mapping[row[\"Sensor\"]]] += 1\n",
    "        else:\n",
    "                sensor_vals[sensor_id_mapping[row[\"Sensor\"]]] = row[\"Value\"]\n",
    "\n",
    "    columns = [i for i in range (0,len(sensor_id_mapping))]\n",
    "    final_columns = [\"Time\"]\n",
    "    final_columns.extend(columns)\n",
    "    # set the index of the dataframe to be the time column\n",
    "    new_data = pandas.DataFrame.from_records(data, columns=final_columns)\n",
    "    new_data[\"Time\"] = pandas.to_datetime(new_data[\"Time\"], format='%m-%d-%Y %H:%M:%S')\n",
    "    new_data = new_data.set_index(\"Time\")\n",
    "    return new_data   \n"
   ]
  },
  {
   "cell_type": "markdown",
   "metadata": {},
   "source": [
    "This method plots all the data (non-normalised) after formatting"
   ]
  },
  {
   "cell_type": "code",
   "execution_count": 7,
   "metadata": {},
   "outputs": [],
   "source": [
    "def plot_cleaned_data(data, reversed_mapping, name, path):\n",
    "    changed_legend = data.rename(columns = reversed_mapping)\n",
    "    ax = changed_legend.plot(subplots=True, figsize=(40,40), title=name.upper() + \" sensor values over time.\", ylabel=\"Sensor Value\")\n",
    "    pyplot.tight_layout()\n",
    "    pyplot.savefig(\"data_plots/\" + name + path, format=\"png\", dpi=1200)"
   ]
  },
  {
   "cell_type": "markdown",
   "metadata": {},
   "source": [
    "This method transforms the series into a format suitable for a supervised learning problem.\n",
    "\n",
    "Eg. [Sensor1(t-1), Sensor2(t-1), Sensor1(t), Sensor2(t)]\n",
    "\n",
    "Where readings at t-1 represent the sensor activations for the period before the activations at t.\n",
    "\n",
    "Sensor activations at time t then become the ground truth values for activations at t-1 in the prediction module"
   ]
  },
  {
   "cell_type": "code",
   "execution_count": 8,
   "metadata": {},
   "outputs": [],
   "source": [
    "def transform_series_to_supervised(new_data):\n",
    "    df = new_data.copy()\n",
    "    # print(df)\n",
    "    # scale values\n",
    "    values = df.values\n",
    "    min_max_scaler = MinMaxScaler()\n",
    "    scaled_values = min_max_scaler.fit_transform(values)\n",
    "    normalized_df = pandas.DataFrame(scaled_values)\n",
    "    n_vars = len(normalized_df.columns)\n",
    "    time_Series = normalized_df.copy().set_index(df.index)\n",
    "    cols, names = list(), list()\n",
    "    # input sequence (t-n, ... t-1)\n",
    "    for i in range(1, 0, -1):\n",
    "        cols.append(normalized_df.shift(i))\n",
    "        names += [('var%d(t-%d)' % (j+1, i)) for j in range(n_vars)]\n",
    "    # forecast sequence (t, t+1, ... t+n)\n",
    "    for i in range(0, 1):\n",
    "        cols.append(normalized_df.shift(-i))\n",
    "        if i == 0:\n",
    "            names += [('var%d(t)' % (j+1)) for j in range(n_vars)]\n",
    "        else:\n",
    "            names += [('var%d(t+%d)' % (j+1, i)) for j in range(n_vars)]\n",
    "    # put it all together\n",
    "    agg = concat(cols, axis=1)\n",
    "    agg.columns = names\n",
    "    # drop rows with NaN values\n",
    "    agg.dropna(inplace=True)\n",
    "    return (agg, normalized_df)"
   ]
  },
  {
   "cell_type": "markdown",
   "metadata": {},
   "source": [
    "This method plots the activations for the sensors in the data set, grouped into figures by sensor type."
   ]
  },
  {
   "cell_type": "code",
   "execution_count": 9,
   "metadata": {},
   "outputs": [],
   "source": [
    "def plot_normalised_sensor_activations(dataset_name, normalized_df, reversed_mapping):\n",
    "    changed_legend = normalized_df.rename(columns = reversed_mapping)\n",
    "    doors =[]\n",
    "    lights = []\n",
    "    temp = []\n",
    "    motion = []\n",
    "    for key in reversed_mapping:\n",
    "        if \"D\" in reversed_mapping[key]:\n",
    "            doors.append(key)\n",
    "        elif \"L\" in reversed_mapping[key]:\n",
    "            lights.append(key)\n",
    "        elif \"T1\" in reversed_mapping[key]:\n",
    "            temp.append(key)\n",
    "        else:\n",
    "            motion.append(key)\n",
    "    sensors = [doors, lights, temp, motion]\n",
    "    names = [\"Door Sensors\", \"Light Sensors\", \"Temperature Sensors\", \"Motion Sensors\"]\n",
    "    for i, sensor in enumerate(sensors):\n",
    "        fig, axs = None, None\n",
    "        if len(sensor) % 2 == 0 or len(sensor) > 10 :\n",
    "            fig, axs = pyplot.subplots(int(len(sensor) / 2),2,  sharex=True, sharey=True,figsize=(10,10))\n",
    "        else:\n",
    "            fig, axs = pyplot.subplots(len(sensor),1, figsize=(10,10))\n",
    "        count = 0\n",
    "        for ax in axs.flat:\n",
    "            ax.plot(changed_legend[reversed_mapping[sensor[count]]])\n",
    "            ax.set_title(reversed_mapping[sensor[count]])\n",
    "            ax.set_xticks([0, 10000, 20000, 30000, 40000, 50000])\n",
    "            count += 1\n",
    "        for ax in axs.flat:\n",
    "            ax.label_outer()\n",
    "        fig.suptitle(names[i])\n",
    "        fig.supxlabel(\"Instance\")\n",
    "        fig.supylabel(\"Sensor Value\")\n",
    "        pyplot.tight_layout()\n",
    "        pyplot.savefig(\"data_plots/\" + dataset_name + \"/\" +names[i],dpi=1200)"
   ]
  },
  {
   "cell_type": "markdown",
   "metadata": {},
   "source": [
    "Discover the features with the highest correlations"
   ]
  },
  {
   "cell_type": "code",
   "execution_count": 10,
   "metadata": {},
   "outputs": [],
   "source": [
    "\n",
    "import seaborn as sns\n",
    "import matplotlib.pyplot as plt\n",
    "\n",
    "def find_correlations(dataset, path, name, reversed_mapping):\n",
    "    min_max_scaler = MinMaxScaler()\n",
    "    scaled_values = min_max_scaler.fit_transform(dataset.values)\n",
    "    normalized_df = pandas.DataFrame(scaled_values)\n",
    "    normalized_df = normalized_df.rename(columns = reversed_mapping)\n",
    "    corrmat = normalized_df.corr(method='pearson', min_periods=100)\n",
    "    corrmat = np.abs(corrmat)\n",
    "    sns.set(context=\"paper\", font=\"monospace\")\n",
    "    f, ax = plt.subplots(figsize=(12, 9))\n",
    "    sns.heatmap(corrmat, vmax=0.8, square=True, xticklabels = True, yticklabels = True)\n",
    "    pyplot.title(name + \" Pearson correlation values between sensors (absolute valued).\")\n",
    "    pyplot.xlabel(\"Sensor ID\")\n",
    "    pyplot.ylabel(\"Sensor ID\")\n",
    "    pyplot.tight_layout()\n",
    "    pyplot.savefig(\"data_plots/\" + path + name)\n",
    "    triangluar_corrmat = np.triu(corrmat, k=1)\n",
    "    values = np.where(triangluar_corrmat >= 0.6)\n",
    "    values = list(zip(values[0], values[1]))\n",
    "    for x in range (len(values)):\n",
    "        values[x] = (reversed_mapping[values[x][0]], reversed_mapping[values[x][1]], triangluar_corrmat[values[x][0]][values[x][1]])\n",
    "    return values \n",
    "    "
   ]
  },
  {
   "cell_type": "markdown",
   "metadata": {},
   "source": [
    "The data needs to be separated out into training (70%), testing (20%) and anomalous portions (10%).\n",
    "\n",
    "The anomalous portion of the data is held back for synthetic anomaly injection to later be used to test the AD system"
   ]
  },
  {
   "cell_type": "code",
   "execution_count": 11,
   "metadata": {},
   "outputs": [],
   "source": [
    "def create_train_test_split(dataset, number_features):\n",
    "    values = dataset.values\n",
    "    train_split = int(0.7 * len(values))\n",
    "    anomaly_split = int(0.9 * len(values))\n",
    "\n",
    "    train = values[:train_split, :]\n",
    "    test = values[train_split:anomaly_split, :]\n",
    "    anomalies = values[anomaly_split:, :]\n",
    "\n",
    "    train_x, train_y = train[:, :number_features], train[:, number_features:]\n",
    "\n",
    "    test_x, test_y = test[:, :number_features], test[:, number_features:]\n",
    "\n",
    "    anomaly_x, anomaly_y = anomalies[:, :number_features], anomalies[:, number_features:]\n",
    "\n",
    "    train_x = np.asarray(train_x).astype(np.float32)\n",
    "    train_y = np.asarray(train_y).astype(np.float32)\n",
    "    test_y = np.asarray(test_y).astype(np.float32)\n",
    "    test_x = np.asarray(test_x).astype(np.float32)\n",
    "    train_x = train_x.reshape((train_x.shape[0], 1, train_x.shape[1]))\n",
    "    test_x = test_x.reshape((test_x.shape[0], 1, test_x.shape[1]))\n",
    "\n",
    "    return (train_x, train_y, test_x, test_y, anomaly_x, anomaly_y)\n"
   ]
  },
  {
   "cell_type": "markdown",
   "metadata": {},
   "source": [
    "<a id='section3'></a>\n",
    "\n",
    "## Section 3: Prediction Module"
   ]
  },
  {
   "cell_type": "markdown",
   "metadata": {},
   "source": [
    "The following section contains the logic to train models for the Prediction Module"
   ]
  },
  {
   "cell_type": "markdown",
   "metadata": {},
   "source": [
    "A method to save trained models and plot their loss (used for experimentation)"
   ]
  },
  {
   "cell_type": "code",
   "execution_count": 12,
   "metadata": {},
   "outputs": [],
   "source": [
    "import pickle\n",
    "\n",
    "def save_model_and_plot(model, filename, history):\n",
    "    pickle.dump(model, open(\"prediction_models/\" +filename +\".sav\", 'wb'))\n",
    "    pyplot.plot(history.history['loss'], label='Loss')\n",
    "    pyplot.plot(history.history['val_loss'], label='Validation Loss')\n",
    "    pyplot.xlabel(\"Epochs\")\n",
    "    pyplot.ylabel(\"Loss\")\n",
    "    pyplot.title(\"Loss and Validation loss of prediction model before tuning.\")\n",
    "    pyplot.tight_layout()\n",
    "    pyplot.legend()\n",
    "    filename = \"prediction_plots/\" + filename\n",
    "    pyplot.savefig(filename)"
   ]
  },
  {
   "cell_type": "markdown",
   "metadata": {},
   "source": [
    "Creates, trains and saves a model with given parameters"
   ]
  },
  {
   "cell_type": "code",
   "execution_count": 13,
   "metadata": {},
   "outputs": [],
   "source": [
    "def create_model(train_x, train_y, test_x, test_y, number_features, model_name):\n",
    "    # design network\n",
    "    model = Sequential()\n",
    "    model.add(LSTM(150, return_sequences=True, input_shape=(train_x.shape[1], train_x.shape[2])))\n",
    "    model.add(LSTM(75))\n",
    "    model.add(Dense(number_features))\n",
    "    model.compile(loss='mean_squared_error', optimizer='adam')\n",
    "    # fit network\n",
    "    history = model.fit(train_x, train_y, epochs=100, batch_size=58, validation_split=0.3, verbose=2, shuffle=False)\n",
    "    # plot history\n",
    "    save_model_and_plot(model, model_name, history)\n",
    "\n",
    "    # make a prediction\n",
    "    yhat = model.predict(test_x)\n",
    "    test_x = test_x.reshape((test_x.shape[0], number_features))\n",
    "    print(test_x)\n",
    "    print(yhat)\n",
    "    # # calculate RMSE\n",
    "    rmse = sqrt(mean_squared_error(test_y, yhat))\n",
    "    print('Test RMSE: %.3f' % rmse)\n",
    "    return yhat"
   ]
  },
  {
   "cell_type": "code",
   "execution_count": 14,
   "metadata": {},
   "outputs": [],
   "source": [
    "# from numpy import concatenate\n",
    "# from math import sqrt\n",
    "# from sklearn.metrics import mean_squared_error\n",
    "\n",
    "\n",
    "# # make a prediction\n",
    "# yhat = model.predict(test_x)\n",
    "# test_x = test_x.reshape((test_x.shape[0], features))\n",
    "# print(test_x)\n",
    "# print(yhat)\n",
    "# # # calculate RMSE\n",
    "# rmse = sqrt(mean_squared_error(test_y, yhat))\n",
    "# print('Test RMSE: %.3f' % rmse)\n"
   ]
  },
  {
   "cell_type": "markdown",
   "metadata": {},
   "source": [
    "<a id='section2'></a>\n",
    "## Section 2: Anomamlous Data Generation Module"
   ]
  },
  {
   "cell_type": "markdown",
   "metadata": {},
   "source": [
    "The following section contains the logic for the Anomalous Data Generation Module"
   ]
  },
  {
   "cell_type": "markdown",
   "metadata": {},
   "source": [
    "This method takes the test data and inserts anomalies into a specified fraction of the data"
   ]
  },
  {
   "cell_type": "code",
   "execution_count": 15,
   "metadata": {},
   "outputs": [],
   "source": [
    "# Try generating some anomalous data\n",
    "# So decide on the number of anomalous samples.. for example 10\n",
    "# Then just affect one 20 event sensor window\n",
    "# One idea is to just scale data to be bigger than 1, in theory this is an anomaly but isn't really in the expected range of input...\n",
    "# https://github.com/tirthajyoti/Synthetic-data-gen/blob/master/Notebooks/Time%20series%20synthesis%20with%20anomaly.ipynb\n",
    "\n",
    " # retrieves the mean, min and max of the different features in the data set\n",
    "def get_stats(dataset):\n",
    "    return (dataset.mean(), dataset.min(), dataset.max())\n",
    "\n",
    "def generate_anomalous_data(stats, anomaly_y, number_features):\n",
    "    anomaly_frac = 0.2\n",
    "    anomaly_scale = 1.2\n",
    "    one_sided = False\n",
    "    means = stats[0]\n",
    "    mins = stats[1]\n",
    "    maxs = stats[2]\n",
    "\n",
    "\n",
    "    # rows_to_be_modified = new_arr.sample(frac=0.2).values # select (no_anomalies) rows from the data set\n",
    "    # no_anomalies = len(rows_to_be_modified)\n",
    "    \n",
    "    # now need to randomly select one row of datano to alter, so as to not alter the underlying sequence\n",
    "    anomalous_y = anomaly_y\n",
    "    for i, row in enumerate(anomalous_y):\n",
    "        for y, data_point in enumerate(row):\n",
    "            anomalous_y[i][y] = means[y] + np.random.uniform(low=mins[y], high=anomaly_scale * (maxs[y] - mins[y]))\n",
    "\n",
    "    return anomalous_y"
   ]
  },
  {
   "cell_type": "markdown",
   "metadata": {},
   "source": [
    "<a id='section4'></a>\n",
    "## Section 4: Anomaly Detection Module"
   ]
  },
  {
   "cell_type": "markdown",
   "metadata": {},
   "source": [
    "This method estimates the likelihood of an anomaly occuring by comparing the predicted value to the ground truth"
   ]
  },
  {
   "cell_type": "code",
   "execution_count": 16,
   "metadata": {},
   "outputs": [],
   "source": [
    "def detect_anomaly(anomaly_x, anomaly_y, predictions):\n",
    "    anomaly_free_x_values = anomaly_x\n",
    "    anomaly_inserted_y_vales = anomaly_y\n",
    "    \n",
    "    for i, prediction in enumerate(predictions):\n",
    "        anomaly_probability = 0.0\n",
    "        for x, value in enumerate(prediction):\n",
    "            anomaly_probability += abs(value - anomaly_inserted_y_vales[i][x])\n",
    "        print(\"Probability of anomaly: \", anomaly_probability / len(prediction))"
   ]
  },
  {
   "cell_type": "markdown",
   "metadata": {},
   "source": [
    "<a id='section5'></a>\n",
    "## Section 5: Running the system"
   ]
  },
  {
   "cell_type": "markdown",
   "metadata": {},
   "source": [
    "This section contains the code to run the system on data sets 1 and 2 (note these runs use the final model found for the Prediction Module during hyper parameter tuning)\n",
    "\n",
    "1. [HH101](#hh101)\n",
    "2. [HH102](#hh102)"
   ]
  },
  {
   "cell_type": "markdown",
   "metadata": {},
   "source": [
    "<a id='hh101'></a>\n",
    "\n",
    "### HH101 "
   ]
  },
  {
   "cell_type": "code",
   "execution_count": 17,
   "metadata": {},
   "outputs": [],
   "source": [
    "hh101, hh101_sensor_id_mapping, hh101_reversed_mapping = load_hh101()\n",
    "hh101 = transform_data(hh101, hh101_sensor_id_mapping)\n",
    "hh101_data, plot_data = transform_series_to_supervised(hh101)\n",
    "train_x, train_y, test_x, test_y, anomaly_x, anomaly_y = create_train_test_split(hh101_data, len(hh101_reversed_mapping))"
   ]
  },
  {
   "cell_type": "code",
   "execution_count": 18,
   "metadata": {},
   "outputs": [
    {
     "data": {
      "text/plain": [
       "[('D002', 'M001', 0.7615758480493884),\n",
       " ('MA016', 'M002', 0.6676737170085072),\n",
       " ('LS010', 'LS001', 0.6353519571008593),\n",
       " ('LS009', 'LS014', 0.6321832835360721),\n",
       " ('LS005', 'LS013', 0.6341945562575604),\n",
       " ('LS006', 'M006', 0.6112256005169898),\n",
       " ('M005', 'MA013', 0.6557433106382272),\n",
       " ('MA015', 'LS015', 0.6782553207810336)]"
      ]
     },
     "execution_count": 18,
     "metadata": {},
     "output_type": "execute_result"
    },
    {
     "data": {
      "image/png": "[encoded data removed]",
      "text/plain": [
       "<Figure size 864x648 with 2 Axes>"
      ]
     },
     "metadata": {
      "needs_background": "light"
     },
     "output_type": "display_data"
    }
   ],
   "source": [
    "find_correlations(hh101, \"hh101/\", \"HH101\", hh101_reversed_mapping)"
   ]
  },
  {
   "cell_type": "markdown",
   "metadata": {},
   "source": [
    "Running this cell will create various plots of the data set"
   ]
  },
  {
   "cell_type": "code",
   "execution_count": 19,
   "metadata": {},
   "outputs": [],
   "source": [
    "plot_cleaned_data(hh101, hh101_reversed_mapping, \"hh101\", \"/cleaned_data.png\")\n",
    "plot_normalised_sensor_activations(\"hh101\", plot_data, hh101_reversed_mapping)"
   ]
  },
  {
   "cell_type": "markdown",
   "metadata": {},
   "source": [
    "<a id='hh102'></a>\n",
    "\n",
    "### HH102"
   ]
  },
  {
   "cell_type": "code",
   "execution_count": 20,
   "metadata": {},
   "outputs": [],
   "source": [
    "hh102, hh102_sensor_id_mapping, hh102_reversed_mapping = load_hh102()\n",
    "hh102 = transform_data(hh102, hh102_sensor_id_mapping)\n",
    "hh102_data, plot_data = transform_series_to_supervised(hh102)\n",
    "train_x, train_y, test_x, test_y, anomaly_x, anomaly_y = create_train_test_split(hh102_data, len(hh102_reversed_mapping))"
   ]
  },
  {
   "cell_type": "markdown",
   "metadata": {},
   "source": [
    "Running this cell will create various plots of the data set"
   ]
  },
  {
   "cell_type": "code",
   "execution_count": 21,
   "metadata": {},
   "outputs": [],
   "source": [
    "plot_cleaned_data(hh102, hh102_reversed_mapping, \"hh102\" , \"/cleaned_data.png\")\n",
    "plot_normalised_sensor_activations(\"hh102\", plot_data, hh102_reversed_mapping)"
   ]
  },
  {
   "cell_type": "code",
   "execution_count": 22,
   "metadata": {},
   "outputs": [
    {
     "data": {
      "text/plain": [
       "[('LS013', 'MA013', 0.7958850899216736),\n",
       " ('LS006', 'LS005', 0.66018026961467),\n",
       " ('LS010', 'LS011', 0.6809681362850213),\n",
       " ('LS015', 'LS016', 0.6702757190772856),\n",
       " ('LS014', 'LS012', 0.6010650918922503),\n",
       " ('M012', 'M011', 0.8641198425402388),\n",
       " ('M012', 'MA010', 0.6058407671063406),\n",
       " ('M011', 'MA010', 0.7069451884758535),\n",
       " ('MA009', 'LS009', 0.6704467651393416),\n",
       " ('MA023', 'LS023', 0.6813427632706398)]"
      ]
     },
     "execution_count": 22,
     "metadata": {},
     "output_type": "execute_result"
    },
    {
     "data": {
      "image/png": "[encoded data removed]",
      "text/plain": [
       "<Figure size 864x648 with 2 Axes>"
      ]
     },
     "metadata": {},
     "output_type": "display_data"
    }
   ],
   "source": [
    "find_correlations(hh102, \"hh102/\", \"HH102\", hh102_reversed_mapping)"
   ]
  }
 ],
 "metadata": {
  "kernelspec": {
   "display_name": "Python 3.8.13 64-bit ('mscproj')",
   "language": "python",
   "name": "python3"
  },
  "language_info": {
   "codemirror_mode": {
    "name": "ipython",
    "version": 3
   },
   "file_extension": ".py",
   "mimetype": "text/x-python",
   "name": "python",
   "nbconvert_exporter": "python",
   "pygments_lexer": "ipython3",
   "version": "3.8.13"
  },
  "orig_nbformat": 4,
  "vscode": {
   "interpreter": {
    "hash": "f2327cdf546b67aa5ec5b40097927c5087f5e88f372319231a067c1ee910f02b"
   }
  }
 },
 "nbformat": 4,
 "nbformat_minor": 2
}
